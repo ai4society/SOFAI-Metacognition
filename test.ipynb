{
 "cells": [
  {
   "cell_type": "code",
   "execution_count": null,
   "metadata": {},
   "outputs": [],
   "source": [
    "# Import necessary modules\n",
    "from simulation.run_simulation import run_simulation\n",
    "from solvers.system1_solver import System1Solver\n",
    "from solvers.system2_solver import OddEvenSolver, PrimeCheckerSolver\n",
    "from tasks.task_generator import TaskGenerator"
   ]
  },
  {
   "cell_type": "code",
   "execution_count": null,
   "metadata": {},
   "outputs": [],
   "source": [
    "# Odd-Even Task Simulation\n",
    "iterations = 100\n",
    "probability_repeat = 0.9\n",
    "system1_solver = System1Solver()\n",
    "system2_solver = OddEvenSolver()\n",
    "task_generator = TaskGenerator.generate_odd_even_task\n",
    "\n",
    "# Running the simulation with the odd-even task\n",
    "run_simulation(system1_solver, system2_solver, task_generator, iterations, probability_repeat)"
   ]
  },
  {
   "cell_type": "code",
   "execution_count": null,
   "metadata": {},
   "outputs": [],
   "source": [
    "# Prime number task\n",
    "system2_solver = PrimeCheckerSolver()\n",
    "task_generator = TaskGenerator.generate_prime_task\n",
    "\n",
    "# Running the simulation with the odd-even task\n",
    "run_simulation(system1_solver, system2_solver, task_generator, iterations, probability_repeat)"
   ]
  }
 ],
 "metadata": {
  "kernelspec": {
   "display_name": "Python 3",
   "language": "python",
   "name": "python3"
  },
  "language_info": {
   "name": "python",
   "version": "3.8.5"
  }
 },
 "nbformat": 4,
 "nbformat_minor": 2
}
